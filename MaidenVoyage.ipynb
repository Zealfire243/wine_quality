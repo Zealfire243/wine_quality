{
 "cells": [
  {
   "cell_type": "markdown",
   "metadata": {},
   "source": [
    "## Overview\n",
    "I quickly went through and did some basic cleaning. I checked correlations using a heatmap and got a better look at the correlated features with a pairplot. I ran a basic oridinary least squares regression for a baseline model and was able to account for approx. 27% of the variance. All of which is statistically significant expect chlorides. "
   ]
  },
  {
   "cell_type": "code",
   "execution_count": 2,
   "metadata": {},
   "outputs": [],
   "source": [
    "import pandas as pd\n",
    "import numpy as np\n",
    "import matplotlib.pyplot as plt\n",
    "import seaborn as sns\n",
    "import statsmodels.formula.api as sm\n",
    "from factor_analyzer import FactorAnalyzer\n",
    "from factor_analyzer.factor_analyzer import calculate_bartlett_sphericity, calculate_kmo"
   ]
  },
  {
   "cell_type": "code",
   "execution_count": 3,
   "metadata": {},
   "outputs": [
    {
     "data": {
      "text/html": [
       "<div>\n",
       "<style scoped>\n",
       "    .dataframe tbody tr th:only-of-type {\n",
       "        vertical-align: middle;\n",
       "    }\n",
       "\n",
       "    .dataframe tbody tr th {\n",
       "        vertical-align: top;\n",
       "    }\n",
       "\n",
       "    .dataframe thead th {\n",
       "        text-align: right;\n",
       "    }\n",
       "</style>\n",
       "<table border=\"1\" class=\"dataframe\">\n",
       "  <thead>\n",
       "    <tr style=\"text-align: right;\">\n",
       "      <th></th>\n",
       "      <th>type</th>\n",
       "      <th>fixed acidity</th>\n",
       "      <th>volatile acidity</th>\n",
       "      <th>citric acid</th>\n",
       "      <th>residual sugar</th>\n",
       "      <th>chlorides</th>\n",
       "      <th>free sulfur dioxide</th>\n",
       "      <th>total sulfur dioxide</th>\n",
       "      <th>density</th>\n",
       "      <th>pH</th>\n",
       "      <th>sulphates</th>\n",
       "      <th>alcohol</th>\n",
       "      <th>quality</th>\n",
       "    </tr>\n",
       "  </thead>\n",
       "  <tbody>\n",
       "    <tr>\n",
       "      <th>0</th>\n",
       "      <td>white</td>\n",
       "      <td>7.0</td>\n",
       "      <td>0.27</td>\n",
       "      <td>0.36</td>\n",
       "      <td>20.7</td>\n",
       "      <td>0.045</td>\n",
       "      <td>45.0</td>\n",
       "      <td>170.0</td>\n",
       "      <td>1.0010</td>\n",
       "      <td>3.00</td>\n",
       "      <td>0.45</td>\n",
       "      <td>8.8</td>\n",
       "      <td>6</td>\n",
       "    </tr>\n",
       "    <tr>\n",
       "      <th>1</th>\n",
       "      <td>white</td>\n",
       "      <td>6.3</td>\n",
       "      <td>0.30</td>\n",
       "      <td>0.34</td>\n",
       "      <td>1.6</td>\n",
       "      <td>0.049</td>\n",
       "      <td>14.0</td>\n",
       "      <td>132.0</td>\n",
       "      <td>0.9940</td>\n",
       "      <td>3.30</td>\n",
       "      <td>0.49</td>\n",
       "      <td>9.5</td>\n",
       "      <td>6</td>\n",
       "    </tr>\n",
       "    <tr>\n",
       "      <th>2</th>\n",
       "      <td>white</td>\n",
       "      <td>8.1</td>\n",
       "      <td>0.28</td>\n",
       "      <td>0.40</td>\n",
       "      <td>6.9</td>\n",
       "      <td>0.050</td>\n",
       "      <td>30.0</td>\n",
       "      <td>97.0</td>\n",
       "      <td>0.9951</td>\n",
       "      <td>3.26</td>\n",
       "      <td>0.44</td>\n",
       "      <td>10.1</td>\n",
       "      <td>6</td>\n",
       "    </tr>\n",
       "    <tr>\n",
       "      <th>3</th>\n",
       "      <td>white</td>\n",
       "      <td>7.2</td>\n",
       "      <td>0.23</td>\n",
       "      <td>0.32</td>\n",
       "      <td>8.5</td>\n",
       "      <td>0.058</td>\n",
       "      <td>47.0</td>\n",
       "      <td>186.0</td>\n",
       "      <td>0.9956</td>\n",
       "      <td>3.19</td>\n",
       "      <td>0.40</td>\n",
       "      <td>9.9</td>\n",
       "      <td>6</td>\n",
       "    </tr>\n",
       "    <tr>\n",
       "      <th>4</th>\n",
       "      <td>white</td>\n",
       "      <td>7.2</td>\n",
       "      <td>0.23</td>\n",
       "      <td>0.32</td>\n",
       "      <td>8.5</td>\n",
       "      <td>0.058</td>\n",
       "      <td>47.0</td>\n",
       "      <td>186.0</td>\n",
       "      <td>0.9956</td>\n",
       "      <td>3.19</td>\n",
       "      <td>0.40</td>\n",
       "      <td>9.9</td>\n",
       "      <td>6</td>\n",
       "    </tr>\n",
       "  </tbody>\n",
       "</table>\n",
       "</div>"
      ],
      "text/plain": [
       "    type  fixed acidity  volatile acidity  citric acid  residual sugar  \\\n",
       "0  white            7.0              0.27         0.36            20.7   \n",
       "1  white            6.3              0.30         0.34             1.6   \n",
       "2  white            8.1              0.28         0.40             6.9   \n",
       "3  white            7.2              0.23         0.32             8.5   \n",
       "4  white            7.2              0.23         0.32             8.5   \n",
       "\n",
       "   chlorides  free sulfur dioxide  total sulfur dioxide  density    pH  \\\n",
       "0      0.045                 45.0                 170.0   1.0010  3.00   \n",
       "1      0.049                 14.0                 132.0   0.9940  3.30   \n",
       "2      0.050                 30.0                  97.0   0.9951  3.26   \n",
       "3      0.058                 47.0                 186.0   0.9956  3.19   \n",
       "4      0.058                 47.0                 186.0   0.9956  3.19   \n",
       "\n",
       "   sulphates  alcohol  quality  \n",
       "0       0.45      8.8        6  \n",
       "1       0.49      9.5        6  \n",
       "2       0.44     10.1        6  \n",
       "3       0.40      9.9        6  \n",
       "4       0.40      9.9        6  "
      ]
     },
     "execution_count": 3,
     "metadata": {},
     "output_type": "execute_result"
    }
   ],
   "source": [
    "df = pd.read_csv('winequalityN.csv')\n",
    "df.head()"
   ]
  },
  {
   "cell_type": "code",
   "execution_count": 4,
   "metadata": {},
   "outputs": [],
   "source": [
    "columns = {}\n",
    "# I dont like spaces in my column names so I replaced them with underscores\n",
    "for column in df.columns:\n",
    "    columns[column] = column.replace(\" \", \"_\")\n",
    "df.rename(columns=columns, inplace=True)"
   ]
  },
  {
   "cell_type": "code",
   "execution_count": 5,
   "metadata": {},
   "outputs": [
    {
     "data": {
      "text/plain": [
       "{'type': white    4898\n",
       " red      1599\n",
       " Name: type, dtype: int64,\n",
       " 'fixed_acidity': 6.80     354\n",
       " 6.60     326\n",
       " 6.40     305\n",
       " 7.00     282\n",
       " 6.90     279\n",
       "         ... \n",
       " 14.30      1\n",
       " 15.90      1\n",
       " 13.80      1\n",
       " 14.20      1\n",
       " 6.45       1\n",
       " Name: fixed_acidity, Length: 106, dtype: int64,\n",
       " 'volatile_acidity': 0.280    286\n",
       " 0.240    265\n",
       " 0.260    255\n",
       " 0.250    238\n",
       " 0.220    235\n",
       "         ... \n",
       " 0.805      1\n",
       " 1.130      1\n",
       " 1.185      1\n",
       " 0.565      1\n",
       " 0.865      1\n",
       " Name: volatile_acidity, Length: 187, dtype: int64,\n",
       " 'citric_acid': 0.30    337\n",
       " 0.28    301\n",
       " 0.32    289\n",
       " 0.49    283\n",
       " 0.26    257\n",
       "        ... \n",
       " 1.66      1\n",
       " 0.75      1\n",
       " 0.86      1\n",
       " 0.99      1\n",
       " 1.23      1\n",
       " Name: citric_acid, Length: 89, dtype: int64,\n",
       " 'residual_sugar': 2.00     235\n",
       " 1.80     228\n",
       " 1.60     223\n",
       " 1.40     219\n",
       " 1.20     195\n",
       "         ... \n",
       " 14.15      1\n",
       " 14.05      1\n",
       " 3.15       1\n",
       " 8.95       1\n",
       " 20.30      1\n",
       " Name: residual_sugar, Length: 316, dtype: int64,\n",
       " 'chlorides': 0.044    206\n",
       " 0.036    200\n",
       " 0.042    187\n",
       " 0.046    185\n",
       " 0.050    182\n",
       "         ... \n",
       " 0.213      1\n",
       " 0.165      1\n",
       " 0.150      1\n",
       " 0.144      1\n",
       " 0.125      1\n",
       " Name: chlorides, Length: 214, dtype: int64,\n",
       " 'free_sulfur_dioxide': 29.0     183\n",
       " 6.0      170\n",
       " 26.0     161\n",
       " 15.0     157\n",
       " 24.0     152\n",
       "         ... \n",
       " 122.5      1\n",
       " 5.5        1\n",
       " 112.0      1\n",
       " 128.0      1\n",
       " 118.5      1\n",
       " Name: free_sulfur_dioxide, Length: 135, dtype: int64,\n",
       " 'total_sulfur_dioxide': 111.0    72\n",
       " 113.0    65\n",
       " 122.0    57\n",
       " 117.0    57\n",
       " 124.0    56\n",
       "          ..\n",
       " 303.0     1\n",
       " 344.0     1\n",
       " 115.5     1\n",
       " 294.0     1\n",
       " 366.5     1\n",
       " Name: total_sulfur_dioxide, Length: 276, dtype: int64,\n",
       " 'density': 0.99760    69\n",
       " 0.99720    69\n",
       " 0.99800    64\n",
       " 0.99200    64\n",
       " 0.99280    63\n",
       "            ..\n",
       " 0.99483     1\n",
       " 0.98947     1\n",
       " 0.99837     1\n",
       " 0.99511     1\n",
       " 0.98923     1\n",
       " Name: density, Length: 998, dtype: int64,\n",
       " 'pH': 3.16    200\n",
       " 3.14    193\n",
       " 3.22    185\n",
       " 3.20    176\n",
       " 3.19    170\n",
       "        ... \n",
       " 3.81      1\n",
       " 2.77      1\n",
       " 2.82      1\n",
       " 2.84      1\n",
       " 3.82      1\n",
       " Name: pH, Length: 108, dtype: int64,\n",
       " 'sulphates': 0.50    275\n",
       " 0.46    243\n",
       " 0.54    234\n",
       " 0.44    232\n",
       " 0.38    214\n",
       "        ... \n",
       " 1.59      1\n",
       " 1.12      1\n",
       " 1.33      1\n",
       " 1.56      1\n",
       " 1.62      1\n",
       " Name: sulphates, Length: 111, dtype: int64,\n",
       " 'alcohol': 9.500000     367\n",
       " 9.400000     332\n",
       " 9.200000     271\n",
       " 10.000000    229\n",
       " 10.500000    227\n",
       "             ... \n",
       " 11.850000      1\n",
       " 14.050000      1\n",
       " 14.900000      1\n",
       " 12.066667      1\n",
       " 11.733333      1\n",
       " Name: alcohol, Length: 111, dtype: int64,\n",
       " 'quality': 6    2836\n",
       " 5    2138\n",
       " 7    1079\n",
       " 4     216\n",
       " 8     193\n",
       " 3      30\n",
       " 9       5\n",
       " Name: quality, dtype: int64}"
      ]
     },
     "execution_count": 5,
     "metadata": {},
     "output_type": "execute_result"
    }
   ],
   "source": [
    "results = {}\n",
    "for column in df.columns:\n",
    "    # Cycles through each column to check value counts easier. I use this for almost every dataset I work with. \n",
    "    results[column] = df[column].value_counts()\n",
    "results"
   ]
  },
  {
   "cell_type": "code",
   "execution_count": 7,
   "metadata": {},
   "outputs": [
    {
     "name": "stdout",
     "output_type": "stream",
     "text": [
      "<class 'pandas.core.frame.DataFrame'>\n",
      "RangeIndex: 6497 entries, 0 to 6496\n",
      "Data columns (total 13 columns):\n",
      " #   Column                Non-Null Count  Dtype  \n",
      "---  ------                --------------  -----  \n",
      " 0   type                  6497 non-null   object \n",
      " 1   fixed_acidity         6487 non-null   float64\n",
      " 2   volatile_acidity      6489 non-null   float64\n",
      " 3   citric_acid           6494 non-null   float64\n",
      " 4   residual_sugar        6495 non-null   float64\n",
      " 5   chlorides             6495 non-null   float64\n",
      " 6   free_sulfur_dioxide   6497 non-null   float64\n",
      " 7   total_sulfur_dioxide  6497 non-null   float64\n",
      " 8   density               6497 non-null   float64\n",
      " 9   pH                    6488 non-null   float64\n",
      " 10  sulphates             6493 non-null   float64\n",
      " 11  alcohol               6497 non-null   float64\n",
      " 12  quality               6497 non-null   int64  \n",
      "dtypes: float64(11), int64(1), object(1)\n",
      "memory usage: 660.0+ KB\n"
     ]
    }
   ],
   "source": [
    "df.info()\n",
    "# checked for NA values and found very few."
   ]
  },
  {
   "cell_type": "code",
   "execution_count": 8,
   "metadata": {},
   "outputs": [],
   "source": [
    "# Replaced red and white with binary reps in order to add it to my data.\n",
    "df.replace(['red', 'white'], [0,1], inplace=True)\n",
    "nonas = df.dropna()\n",
    "# Decided to drop all NA values becuase there was so few and they are spread out\n",
    "whites = nonas[nonas['type'] == 1].drop('type', axis=1)\n",
    "reds = nonas[nonas['type'] == 0].drop('type', axis=1)\n"
   ]
  },
  {
   "cell_type": "code",
   "execution_count": null,
   "metadata": {},
   "outputs": [],
   "source": [
    "# Decided to drop all NA values becuase there was so few and they are spread out\n",
    "corr = nonas.corr()\n",
    "mask = np.triu(np.ones_like(corr, dtype=np.bool))\n",
    "# Created a heatmap using Seaborn to get an overview of correlations that looks pretty\n",
    "\n",
    "fig1, ax1 = plt.subplots(figsize=(11, 9))\n",
    "sns.heatmap(corr, mask=mask, ax=ax1, cmap=\"viridis\");\n"
   ]
  },
  {
   "cell_type": "code",
   "execution_count": null,
   "metadata": {},
   "outputs": [],
   "source": [
    "correl = [\"alcohol\", \"citric_acid\", \"chlorides\", \"volatile_acidity\", \"density\", 'quality']\n",
    "df_correl = nonas[correl]\n",
    "# Used seaborns pairplot to quickly generate distributions and scatterplots. \n",
    "sns.pairplot(df_correl);"
   ]
  },
  {
   "cell_type": "code",
   "execution_count": null,
   "metadata": {},
   "outputs": [],
   "source": [
    "def create_basic_formula(target : str, features : list):\n",
    "    \"\"\"\n",
    "    Takes in a target and list of features to create a ordinary least squares formula using only addition\n",
    "    \"\"\"\n",
    "    formula = target + ' ~ '\n",
    "    for feature in features:\n",
    "        add = feature + ' + '\n",
    "        formula += add\n",
    "    return formula[:-3]\n",
    "    "
   ]
  },
  {
   "cell_type": "code",
   "execution_count": null,
   "metadata": {},
   "outputs": [],
   "source": [
    "formula = create_basic_formula('quality', [\"alcohol\", \"citric_acid\", \"chlorides\", \"volatile_acidity\", \"density\"])\n",
    "formula"
   ]
  },
  {
   "cell_type": "code",
   "execution_count": null,
   "metadata": {},
   "outputs": [],
   "source": [
    "results = sm.ols(formula=formula, data=nonas).fit()\n",
    "results.summary()"
   ]
  },
  {
   "cell_type": "code",
   "execution_count": 11,
   "metadata": {},
   "outputs": [
    {
     "data": {
      "text/plain": [
       "((51977.13078157587, 0.0), (26323.49283722722, 0.0), (8710.843336783457, 0.0))"
      ]
     },
     "execution_count": 11,
     "metadata": {},
     "output_type": "execute_result"
    }
   ],
   "source": [
    "calculate_bartlett_sphericity(nonas), calculate_bartlett_sphericity(whites), calculate_bartlett_sphericity(reds)"
   ]
  },
  {
   "cell_type": "code",
   "execution_count": 28,
   "metadata": {},
   "outputs": [
    {
     "name": "stdout",
     "output_type": "stream",
     "text": [
      "[0.66348411 0.34217402 0.77982253 0.6833958  0.31047142 0.85829767\n",
      " 0.73608883 0.72916801 0.34297212 0.25952442 0.73532552 0.32234925\n",
      " 0.76021977] \n",
      " ['type', 'fixed_acidity', 'volatile_acidity', 'citric_acid', 'residual_sugar', 'chlorides', 'free_sulfur_dioxide', 'total_sulfur_dioxide', 'density', 'pH', 'sulphates', 'alcohol', 'quality'] 0.502024203529345\n",
      "[0.17170795 0.30349284 0.71973928 0.33082964 0.69826304 0.59230425\n",
      " 0.71636172 0.41809538 0.16110919 0.18990695 0.40727994 0.77417705] \n",
      " ['fixed_acidity', 'volatile_acidity', 'citric_acid', 'residual_sugar', 'chlorides', 'free_sulfur_dioxide', 'total_sulfur_dioxide', 'density', 'pH', 'sulphates', 'alcohol', 'quality'] 0.39734500097344955\n",
      "[0.45463739 0.58360821 0.70841761 0.2098354  0.47464602 0.48568911\n",
      " 0.46861342 0.37725173 0.44954036 0.55193852 0.31796176 0.76311079] \n",
      " ['fixed_acidity', 'volatile_acidity', 'citric_acid', 'residual_sugar', 'chlorides', 'free_sulfur_dioxide', 'total_sulfur_dioxide', 'density', 'pH', 'sulphates', 'alcohol', 'quality'] 0.46540203965630217\n"
     ]
    }
   ],
   "source": [
    "for df in [nonas, whites, reds]:\n",
    "        print(calculate_kmo(df)[0], '\\n', df.columns.to_list(), calculate_kmo(df)[1])"
   ]
  },
  {
   "cell_type": "code",
   "execution_count": 43,
   "metadata": {},
   "outputs": [
    {
     "name": "stdout",
     "output_type": "stream",
     "text": [
      "(19687.18088784252, 0.0) (array([0.68922641, 0.71448025, 0.58480753, 0.81552964, 0.67540084,\n",
      "       0.63260458, 0.72563929, 0.51800978]), 0.6839383168443038) \n",
      " ['type', 'volatile_acidity', 'citric_acid', 'chlorides', 'free_sulfur_dioxide', 'total_sulfur_dioxide', 'sulphates', 'quality']\n",
      "(3064.3051514755175, 0.0) (array([0.70927872, 0.64974127, 0.49642456, 0.51203477, 0.44260189]), 0.5161237522105457) \n",
      " ['citric_acid', 'chlorides', 'free_sulfur_dioxide', 'total_sulfur_dioxide', 'quality']\n",
      "(3202.135041597149, 0.0) (array([0.65412007, 0.64110838, 0.69845648, 0.53844032, 0.75023635,\n",
      "       0.80682728, 0.66066734]), 0.6896276812580536) \n",
      " ['fixed_acidity', 'volatile_acidity', 'citric_acid', 'free_sulfur_dioxide', 'pH', 'sulphates', 'quality']\n"
     ]
    }
   ],
   "source": [
    "dropNonas = ['fixed_acidity', 'residual_sugar', 'density', 'pH', 'alcohol']\n",
    "dropWhites = ['fixed_acidity', 'volatile_acidity', 'residual_sugar', 'density', 'pH', 'sulphates', 'alcohol']\n",
    "dropReds = ['residual_sugar', 'density', 'alcohol', 'chlorides', 'total_sulfur_dioxide']\n",
    "prepNonas = nonas.drop(dropNonas, axis=1)\n",
    "prepWhites = whites.drop(dropWhites, axis=1)\n",
    "prepReds = reds.drop(dropReds, axis=1)\n",
    "\n",
    "for df in [prepNonas, prepWhites, prepReds]:\n",
    "    print(calculate_bartlett_sphericity(df), calculate_kmo(df),'\\n', df.columns.to_list()) "
   ]
  },
  {
   "cell_type": "code",
   "execution_count": 44,
   "metadata": {},
   "outputs": [
    {
     "data": {
      "text/plain": [
       "array([3.23662636, 1.26297941, 1.19129883, 0.84023154, 0.54928707,\n",
       "       0.45233242, 0.32225857, 0.14498579])"
      ]
     },
     "execution_count": 44,
     "metadata": {},
     "output_type": "execute_result"
    }
   ],
   "source": [
    "fa = FactorAnalyzer()\n",
    "fa.fit(prepNonas)\n",
    "ev, v = fa.get_eigenvalues()\n",
    "ev"
   ]
  },
  {
   "cell_type": "code",
   "execution_count": 53,
   "metadata": {},
   "outputs": [
    {
     "data": {
      "image/png": "[encoded data removed]",
      "text/plain": [
       "<Figure size 432x288 with 1 Axes>"
      ]
     },
     "metadata": {
      "needs_background": "light"
     },
     "output_type": "display_data"
    },
    {
     "name": "stdout",
     "output_type": "stream",
     "text": [
      "(array([1.88105026, 1.4030409 , 1.13492298]), array([0.23513128, 0.17538011, 0.14186537]), array([0.23513128, 0.4105114 , 0.55237677]))\n"
     ]
    },
    {
     "data": {
      "image/png": "[encoded data removed]",
      "text/plain": [
       "<Figure size 432x288 with 1 Axes>"
      ]
     },
     "metadata": {
      "needs_background": "light"
     },
     "output_type": "display_data"
    },
    {
     "name": "stdout",
     "output_type": "stream",
     "text": [
      "(array([1.21359804, 0.65459999, 0.29118222]), array([0.24271961, 0.13092   , 0.05823644]), array([0.24271961, 0.37363961, 0.43187605]))\n"
     ]
    },
    {
     "data": {
      "image/png": "[encoded data removed]",
      "text/plain": [
       "<Figure size 432x288 with 1 Axes>"
      ]
     },
     "metadata": {
      "needs_background": "light"
     },
     "output_type": "display_data"
    },
    {
     "name": "stdout",
     "output_type": "stream",
     "text": [
      "(array([1.68600312, 1.3034525 , 0.9996515 ]), array([0.24085759, 0.1862075 , 0.14280736]), array([0.24085759, 0.42706509, 0.56987244]))\n"
     ]
    }
   ],
   "source": [
    "for df in [prepNonas, prepWhites, prepReds]:\n",
    "    fa = FactorAnalyzer(n_factors=3, rotation='varimax')\n",
    "    fa.fit(df)\n",
    "    ev, v = fa.get_eigenvalues()\n",
    "    plt.scatter(range(1,df.shape[1]+1),ev)\n",
    "    plt.plot(range(1,df.shape[1]+1),ev)\n",
    "    plt.title('Scree Plot')\n",
    "    plt.xlabel('Factors')\n",
    "    plt.ylabel('Eigenvalue')\n",
    "    plt.grid()\n",
    "    plt.show()\n",
    "    print(fa.get_factor_variance())"
   ]
  },
  {
   "cell_type": "code",
   "execution_count": null,
   "metadata": {},
   "outputs": [],
   "source": [
    "fa = FactorAnalyzer()"
   ]
  }
 ],
 "metadata": {
  "kernelspec": {
   "display_name": "Python 3",
   "language": "python",
   "name": "python3"
  },
  "language_info": {
   "codemirror_mode": {
    "name": "ipython",
    "version": 3
   },
   "file_extension": ".py",
   "mimetype": "text/x-python",
   "name": "python",
   "nbconvert_exporter": "python",
   "pygments_lexer": "ipython3",
   "version": "3.8.5"
  }
 },
 "nbformat": 4,
 "nbformat_minor": 4
}
